{
 "cells": [
  {
   "cell_type": "code",
   "execution_count": 1,
   "metadata": {},
   "outputs": [
    {
     "name": "stderr",
     "output_type": "stream",
     "text": [
      "/Users/byby/DevProjects/fcpx-edit-buddy/venv/lib/python3.11/site-packages/tqdm/auto.py:21: TqdmWarning: IProgress not found. Please update jupyter and ipywidgets. See https://ipywidgets.readthedocs.io/en/stable/user_install.html\n",
      "  from .autonotebook import tqdm as notebook_tqdm\n",
      "Fetching 4 files: 100%|██████████| 4/4 [00:00<00:00, 55370.35it/s]\n"
     ]
    },
    {
     "name": "stdout",
     "output_type": "stream",
     "text": [
      "SRT file 'p2_tiktok.srt' created successfully.\n",
      "Processing audio segments...\n",
      "Analyzing audio segments...\n",
      "Loading FCPXML...\n",
      "Creating new asset clips based on speech segments...\n"
     ]
    },
    {
     "name": "stderr",
     "output_type": "stream",
     "text": [
      "100%|██████████| 45/45 [00:00<00:00, 391584.40it/s]\n"
     ]
    },
    {
     "name": "stdout",
     "output_type": "stream",
     "text": [
      "Adding captions...\n"
     ]
    },
    {
     "name": "stderr",
     "output_type": "stream",
     "text": [
      "8it [00:00, 58355.53it/s]:00<?, ?it/s]\n",
      "8it [00:00, 101067.57it/s]\n",
      "8it [00:00, 79137.81it/s]\n",
      "8it [00:00, 123361.88it/s]\n",
      "8it [00:00, 119837.26it/s]\n",
      "8it [00:00, 99864.38it/s]\n",
      "8it [00:00, 82443.32it/s]\n",
      "8it [00:00, 125203.10it/s]\n",
      "8it [00:00, 112598.77it/s]\n",
      "8it [00:00, 74071.59it/s]\n",
      "8it [00:00, 86037.01it/s]\n",
      "8it [00:00, 82850.45it/s]\n",
      "8it [00:00, 62484.98it/s]\n",
      "8it [00:00, 82443.32it/s]\n",
      "8it [00:00, 74898.29it/s]\n",
      "8it [00:00, 88069.38it/s]\n",
      "8it [00:00, 102612.94it/s]\n",
      "8it [00:00, 121574.03it/s]\n",
      "8it [00:00, 66052.03it/s]\n",
      "8it [00:00, 121135.13it/s]\n",
      "8it [00:00, 4385.63it/s]\n",
      "8it [00:00, 22841.68it/s]\n",
      "8it [00:00, 4965.88it/s]\n",
      "8it [00:00, 10258.16it/s]\n",
      "8it [00:00, 5329.48it/s]\n",
      "8it [00:00, 28268.27it/s]\n",
      "8it [00:00, 7848.99it/s]\n",
      "8it [00:00, 102300.10it/s]\n",
      "8it [00:00, 109655.01it/s]\n",
      "8it [00:00, 103883.69it/s]\n",
      "8it [00:00, 102300.10it/s]\n",
      "8it [00:00, 114520.25it/s]\n",
      "8it [00:00, 105186.31it/s]\n",
      "8it [00:00, 166111.05it/s]\n",
      "8it [00:00, 129553.79it/s]\n",
      "8it [00:00, 110740.70it/s]\n",
      "8it [00:00, 56775.69it/s]\n",
      "8it [00:00, 92948.57it/s]\n",
      "8it [00:00, 114520.25it/s]\n",
      "8it [00:00, 171196.08it/s]\n",
      "8it [00:00, 190650.18it/s]:00<00:00, 399.70it/s]\n",
      "8it [00:00, 139810.13it/s]\n",
      "8it [00:00, 126144.48it/s]\n",
      "8it [00:00, 145888.83it/s]\n",
      "8it [00:00, 150468.30it/s]\n",
      "100%|██████████| 45/45 [00:00<00:00, 424.80it/s]"
     ]
    },
    {
     "name": "stdout",
     "output_type": "stream",
     "text": [
      "Captions added successfully!\n"
     ]
    },
    {
     "name": "stderr",
     "output_type": "stream",
     "text": [
      "\n"
     ]
    },
    {
     "data": {
      "text/plain": [
       "'Processing complete!'"
      ]
     },
     "execution_count": 1,
     "metadata": {},
     "output_type": "execute_result"
    }
   ],
   "source": [
    "from src.audio_to_srt import create_srt_from_audio\n",
    "from src.cut_n_caption import combine_audio_processing_and_captions\n",
    "\n",
    "\n",
    "srt_file = \"p2_tiktok.srt\"\n",
    "audio_file = \"data/p2_tiktok.m4a\"\n",
    "input_xml_file = \"p2_tiktok_initial.fcpxml\"\n",
    "intermediate_xml_file = \"p2_tiktok_out2.fcpxml\"\n",
    "output_xml_file = \"p2_tiktok_out2.fcpxml\"\n",
    "create_srt_from_audio(audio_file, output_file=srt_file)\n",
    "combine_audio_processing_and_captions(audio_file, srt_file, input_xml_file, \n",
    "                                    intermediate_xml_file, output_xml_file)\n",
    "\n",
    "#TODO: fix the last clips\n"
   ]
  },
  {
   "cell_type": "code",
   "execution_count": null,
   "metadata": {},
   "outputs": [],
   "source": []
  }
 ],
 "metadata": {
  "kernelspec": {
   "display_name": "venv",
   "language": "python",
   "name": "python3"
  },
  "language_info": {
   "codemirror_mode": {
    "name": "ipython",
    "version": 3
   },
   "file_extension": ".py",
   "mimetype": "text/x-python",
   "name": "python",
   "nbconvert_exporter": "python",
   "pygments_lexer": "ipython3",
   "version": "3.11.4"
  }
 },
 "nbformat": 4,
 "nbformat_minor": 2
}
